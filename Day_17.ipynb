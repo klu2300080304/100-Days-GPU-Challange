{
  "nbformat": 4,
  "nbformat_minor": 0,
  "metadata": {
    "colab": {
      "private_outputs": true,
      "provenance": [],
      "gpuType": "T4"
    },
    "kernelspec": {
      "name": "python3",
      "display_name": "Python 3"
    },
    "language_info": {
      "name": "python"
    },
    "accelerator": "GPU"
  },
  "cells": [
    {
      "cell_type": "code",
      "execution_count": null,
      "metadata": {
        "id": "9ptZdy3i9rav"
      },
      "outputs": [],
      "source": [
        "%%writefile vector_add.cu\n",
        "\n",
        "// nvcc vec_cublas.cu -o vec_cublas -lstdc++ -lcublas\n",
        "\n",
        "#include <iostream>\n",
        "#include <cublas_v2.h>\n",
        "\n",
        "int main() {\n",
        "    const int N = 10;\n",
        "    float A[N], B[N], C[N];\n",
        "\n",
        "    // Initialize input vectors (you might want to add your own initialization)\n",
        "    for(int i = 0; i < N; i++) {\n",
        "        A[i] = i;\n",
        "        B[i] = i;\n",
        "    }\n",
        "\n",
        "    // Create cuBLAS handle\n",
        "    cublasHandle_t handle;\n",
        "    cublasCreate(&handle);\n",
        "\n",
        "    // Allocate device memory\n",
        "    float *d_a, *d_b;\n",
        "    cudaMalloc(&d_a, N * sizeof(float));\n",
        "    cudaMalloc(&d_b, N * sizeof(float));\n",
        "\n",
        "    // Copy data from host to device\n",
        "    cudaMemcpy(d_a, A, N * sizeof(float), cudaMemcpyHostToDevice);\n",
        "    cudaMemcpy(d_b, B, N * sizeof(float), cudaMemcpyHostToDevice);\n",
        "\n",
        "    // Scaling factors\n",
        "    const float alpha = 1.0f;\n",
        "\n",
        "    // Perform vector addition: C = alpha*A + B\n",
        "    cublasSaxpy(handle, N, &alpha, d_a, 1, d_b, 1);\n",
        "\n",
        "    // Copy result back to host (result is in d_b)\n",
        "    cudaMemcpy(C, d_b, N * sizeof(float), cudaMemcpyDeviceToHost);\n",
        "\n",
        "    // Print results\n",
        "    for(int i = 0; i < N; i++) {\n",
        "        std::cout << C[i] << \" \";\n",
        "    }\n",
        "    std::cout << std::endl;\n",
        "\n",
        "    // Cleanup\n",
        "    cudaFree(d_a);\n",
        "    cudaFree(d_b);\n",
        "    cublasDestroy(handle);\n",
        "\n",
        "    return 0;\n",
        "}"
      ]
    },
    {
      "cell_type": "code",
      "source": [
        "# Compile with the specified architecture and link the cuBLAS library\n",
        "!nvcc vector_add.cu -o vector_add -gencode arch=compute_75,code=sm_75 -lcublas\n",
        "\n",
        "# Run the executable\n",
        "!./vector_add"
      ],
      "metadata": {
        "id": "U4_1dHZy9xOu"
      },
      "execution_count": null,
      "outputs": []
    },
    {
      "cell_type": "code",
      "source": [],
      "metadata": {
        "id": "h5GrFCiB9zZi"
      },
      "execution_count": null,
      "outputs": []
    }
  ]
}