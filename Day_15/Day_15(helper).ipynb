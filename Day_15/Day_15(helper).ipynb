{
  "nbformat": 4,
  "nbformat_minor": 0,
  "metadata": {
    "colab": {
      "private_outputs": true,
      "provenance": [],
      "gpuType": "V28"
    },
    "kernelspec": {
      "name": "python3",
      "display_name": "Python 3"
    },
    "language_info": {
      "name": "python"
    },
    "accelerator": "TPU"
  },
  "cells": [
    {
      "cell_type": "code",
      "execution_count": null,
      "metadata": {
        "id": "Dy7zOl5O7BL2"
      },
      "outputs": [],
      "source": [
        "%%writefile vector_add.cu\n",
        "\n",
        "#include <cuda_runtime.h>\n",
        "#include <math.h>\n",
        "#include \"helper.cuh\"\n",
        "\n",
        "__device__ float warpReduceMax(float val) {\n",
        "    for (int offset = 16; offset > 0; offset /= 2) {\n",
        "        val = fmaxf(val, __shfl_down_sync(0xffffffff, val, offset));\n",
        "    }\n",
        "    return val;\n",
        "}"
      ]
    },
    {
      "cell_type": "code",
      "source": [
        "# Compile with the specified architecture\n",
        "!nvcc vector_add.cu -o vector_add -gencode arch=compute_75,code=sm_75\n",
        "\n",
        "# Run the executable\n",
        "!./vector_add"
      ],
      "metadata": {
        "id": "t5XcsEYi7QuB"
      },
      "execution_count": null,
      "outputs": []
    },
    {
      "cell_type": "code",
      "source": [],
      "metadata": {
        "id": "SnIh7RZA7UH_"
      },
      "execution_count": null,
      "outputs": []
    }
  ]
}