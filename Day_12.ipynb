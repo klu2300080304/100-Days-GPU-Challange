{
  "nbformat": 4,
  "nbformat_minor": 0,
  "metadata": {
    "colab": {
      "private_outputs": true,
      "provenance": [],
      "gpuType": "V28"
    },
    "kernelspec": {
      "name": "python3",
      "display_name": "Python 3"
    },
    "language_info": {
      "name": "python"
    },
    "accelerator": "TPU"
  },
  "cells": [
    {
      "cell_type": "code",
      "execution_count": null,
      "metadata": {
        "id": "tkvKgDer2bbk"
      },
      "outputs": [],
      "source": [
        "%%writefile vector_add.cu\n",
        "\n",
        "#include <stdio.h>\n",
        "#include <stdlib.h>\n",
        "#include <cuda.h>\n",
        "\n",
        "__device__ void co_rank(const int* A, const int* B, int k, const int N, const int M, int* i_out, int* j_out) {\n",
        "    int low = max(0, k-M);\n",
        "    int high = min(k, N);\n",
        "\n",
        "    while (low <= high) {\n",
        "        int i = (low + high) / 2;\n",
        "        int j = k - i;\n",
        "\n",
        "        if (j < 0) {\n",
        "            high = i - 1;\n",
        "            continue;\n",
        "        }\n",
        "        if (j > M) {\n",
        "            low = i + 1;\n",
        "            continue;\n",
        "        }\n",
        "\n",
        "        if (i > 0 && j < M && A[i-1] > B[j]) {\n",
        "            high = i - 1;\n",
        "        }\n",
        "        else if (j > 0 && i < N && B[j-1] > A[i]) {\n",
        "            low = i + 1;\n",
        "        }\n",
        "        else {\n",
        "            *i_out = i;\n",
        "            *j_out = j;\n",
        "            return;\n",
        "        }\n",
        "    }\n",
        "}\n",
        "\n",
        "__global__ void parallel_merge(const int* A, const int* B, int* C, const int N, const int M) {\n",
        "    int tid = blockIdx.x * blockDim.x + threadIdx.x;\n",
        "\n",
        "    if (tid < N + M) {\n",
        "        int i, j;\n",
        "        co_rank(A, B, tid, N, M, &i, &j);\n",
        "\n",
        "        if (j >= M || (i < N && A[i] <= B[j])) {\n",
        "            C[tid] = A[i];\n",
        "        } else {\n",
        "            C[tid] = B[j];\n",
        "        }\n",
        "    }\n",
        "}\n",
        "\n",
        "int main() {\n",
        "    const int N = 5;\n",
        "    const int M = 5;\n",
        "    int A[N], B[M], C[N+M];\n",
        "\n",
        "    // Initialize arrays with sorted values\n",
        "    for(int i = 0; i < N; i++) {\n",
        "        A[i] = 2*i;  // Even numbers: 0,2,4,6,8\n",
        "    }\n",
        "    for(int i = 0; i < M; i++) {\n",
        "        B[i] = 2*i + 1;  // Odd numbers: 1,3,5,7,9\n",
        "    }\n",
        "\n",
        "    printf(\"Array A: \");\n",
        "    for(int i = 0; i < N; i++) {\n",
        "        printf(\"%d \", A[i]);\n",
        "    }\n",
        "    printf(\"\\n\");\n",
        "\n",
        "    printf(\"Array B: \");\n",
        "    for(int i = 0; i < M; i++) {\n",
        "        printf(\"%d \", B[i]);\n",
        "    }\n",
        "    printf(\"\\n\");\n",
        "\n",
        "    // Declare device pointers\n",
        "    int *d_A, *d_B, *d_C;\n",
        "\n",
        "    // Allocate memory on device\n",
        "    cudaMalloc(&d_A, N * sizeof(int));\n",
        "    cudaMalloc(&d_B, M * sizeof(int));\n",
        "    cudaMalloc(&d_C, (N+M) * sizeof(int));\n",
        "\n",
        "    // Copy data from host to device\n",
        "    cudaMemcpy(d_A, A, N * sizeof(int), cudaMemcpyHostToDevice);\n",
        "    cudaMemcpy(d_B, B, M * sizeof(int), cudaMemcpyHostToDevice);\n",
        "\n",
        "    // Set up execution configuration\n",
        "    dim3 block(256);\n",
        "    dim3 grid((N+M + block.x-1) / block.x);\n",
        "\n",
        "    // Launch kernel\n",
        "    parallel_merge<<<grid, block>>>(d_A, d_B, d_C, N, M);\n",
        "\n",
        "    // Copy result back to host\n",
        "    cudaMemcpy(C, d_C, (N+M) * sizeof(int), cudaMemcpyDeviceToHost);\n",
        "\n",
        "    // Free device memory\n",
        "    cudaFree(d_A);\n",
        "    cudaFree(d_B);\n",
        "    cudaFree(d_C);\n",
        "\n",
        "    // Print result\n",
        "    printf(\"Merged array: \");\n",
        "    for(int i = 0; i < N+M; i++) {\n",
        "        printf(\"%d \", C[i]);\n",
        "    }\n",
        "    printf(\"\\n\");\n",
        "\n",
        "    return 0;\n",
        "}"
      ]
    },
    {
      "cell_type": "code",
      "metadata": {
        "id": "56e45cfd"
      },
      "source": [
        "!apt-get update\n",
        "!apt-get install nvidia-cuda-toolkit"
      ],
      "execution_count": null,
      "outputs": []
    },
    {
      "cell_type": "code",
      "metadata": {
        "id": "c69b1d5a"
      },
      "source": [
        "# Compile with the specified architecture\n",
        "!nvcc vector_add.cu -o vector_add -gencode arch=compute_75,code=sm_75\n",
        "\n",
        "# Run the executable\n",
        "!./vector_add"
      ],
      "execution_count": null,
      "outputs": []
    },
    {
      "cell_type": "code",
      "metadata": {
        "id": "c471d9ec"
      },
      "source": [
        "# Compile with the specified architecture\n",
        "!nvcc vector_add.cu -o vector_add -gencode arch=compute_75,code=sm_75\n",
        "\n",
        "# Run the executable\n",
        "!./vector_add"
      ],
      "execution_count": null,
      "outputs": []
    }
  ]
}