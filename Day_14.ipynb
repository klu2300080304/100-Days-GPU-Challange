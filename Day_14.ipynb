{
  "cells": [
    {
      "cell_type": "code",
      "execution_count": 1,
      "metadata": {
        "colab": {
          "base_uri": "https://localhost:8080/"
        },
        "id": "raUQldOUu0wE",
        "outputId": "f5ae6c35-bfed-4d33-f29f-aabc737f439a"
      },
      "outputs": [
        {
          "output_type": "stream",
          "name": "stdout",
          "text": [
            "Wed Aug 20 18:26:35 2025       \n",
            "+-----------------------------------------------------------------------------------------+\n",
            "| NVIDIA-SMI 550.54.15              Driver Version: 550.54.15      CUDA Version: 12.4     |\n",
            "|-----------------------------------------+------------------------+----------------------+\n",
            "| GPU  Name                 Persistence-M | Bus-Id          Disp.A | Volatile Uncorr. ECC |\n",
            "| Fan  Temp   Perf          Pwr:Usage/Cap |           Memory-Usage | GPU-Util  Compute M. |\n",
            "|                                         |                        |               MIG M. |\n",
            "|=========================================+========================+======================|\n",
            "|   0  Tesla T4                       Off |   00000000:00:04.0 Off |                    0 |\n",
            "| N/A   61C    P8              9W /   70W |       0MiB /  15360MiB |      0%      Default |\n",
            "|                                         |                        |                  N/A |\n",
            "+-----------------------------------------+------------------------+----------------------+\n",
            "                                                                                         \n",
            "+-----------------------------------------------------------------------------------------+\n",
            "| Processes:                                                                              |\n",
            "|  GPU   GI   CI        PID   Type   Process name                              GPU Memory |\n",
            "|        ID   ID                                                               Usage      |\n",
            "|=========================================================================================|\n",
            "|  No running processes found                                                             |\n",
            "+-----------------------------------------------------------------------------------------+\n"
          ]
        }
      ],
      "source": [
        "!nvidia-smi || echo \"No GPU detected. Enable GPU in Runtime settings.\""
      ],
      "id": "raUQldOUu0wE"
    },
    {
      "cell_type": "markdown",
      "metadata": {
        "id": "SRXXPv6au0wE"
      },
      "source": [
        "## 1. Install Dependencies (OpenCV dev headers for C++ build)\n",
        "Colab typically has CUDA already. We install OpenCV C++ development libraries for the image example."
      ],
      "id": "SRXXPv6au0wE"
    },
    {
      "cell_type": "code",
      "execution_count": 2,
      "metadata": {
        "colab": {
          "base_uri": "https://localhost:8080/"
        },
        "id": "O0x3Z2s6u0wF",
        "outputId": "75732a4d-cdf3-470e-b546-b7f40fdea781"
      },
      "outputs": [
        {
          "output_type": "stream",
          "name": "stdout",
          "text": [
            "Hit:1 https://cli.github.com/packages stable InRelease\n",
            "Get:2 https://developer.download.nvidia.com/compute/cuda/repos/ubuntu2204/x86_64  InRelease [1,581 B]\n",
            "Get:3 https://cloud.r-project.org/bin/linux/ubuntu jammy-cran40/ InRelease [3,632 B]\n",
            "Get:4 http://security.ubuntu.com/ubuntu jammy-security InRelease [129 kB]\n",
            "Hit:5 http://archive.ubuntu.com/ubuntu jammy InRelease\n",
            "Get:6 https://developer.download.nvidia.com/compute/cuda/repos/ubuntu2204/x86_64  Packages [1,937 kB]\n",
            "Get:7 https://r2u.stat.illinois.edu/ubuntu jammy InRelease [6,555 B]\n",
            "Get:8 http://archive.ubuntu.com/ubuntu jammy-updates InRelease [128 kB]\n",
            "Hit:9 https://ppa.launchpadcontent.net/deadsnakes/ppa/ubuntu jammy InRelease\n",
            "Get:10 http://archive.ubuntu.com/ubuntu jammy-backports InRelease [127 kB]\n",
            "Hit:11 https://ppa.launchpadcontent.net/graphics-drivers/ppa/ubuntu jammy InRelease\n",
            "Get:12 https://r2u.stat.illinois.edu/ubuntu jammy/main all Packages [9,191 kB]\n",
            "Hit:13 https://ppa.launchpadcontent.net/ubuntugis/ppa/ubuntu jammy InRelease\n",
            "Get:14 http://archive.ubuntu.com/ubuntu jammy-updates/universe amd64 Packages [1,575 kB]\n",
            "Get:15 http://archive.ubuntu.com/ubuntu jammy-updates/restricted amd64 Packages [5,422 kB]\n",
            "Get:16 http://security.ubuntu.com/ubuntu jammy-security/universe amd64 Packages [1,271 kB]\n",
            "Get:17 https://r2u.stat.illinois.edu/ubuntu jammy/main amd64 Packages [2,783 kB]\n",
            "Get:18 http://archive.ubuntu.com/ubuntu jammy-updates/main amd64 Packages [3,564 kB]\n",
            "Get:19 http://security.ubuntu.com/ubuntu jammy-security/main amd64 Packages [3,246 kB]\n",
            "Get:20 http://security.ubuntu.com/ubuntu jammy-security/restricted amd64 Packages [5,218 kB]\n",
            "Fetched 34.6 MB in 5s (7,007 kB/s)\n",
            "Reading package lists...\n",
            "Reading package lists...\n",
            "Building dependency tree...\n",
            "Reading state information...\n",
            "libopencv-dev is already the newest version (4.5.4+dfsg-9ubuntu4+jammy1).\n",
            "The following packages were automatically installed and are no longer required:\n",
            "  libbz2-dev libpkgconf3 libreadline-dev\n",
            "Use 'apt autoremove' to remove them.\n",
            "The following packages will be REMOVED:\n",
            "  pkgconf r-base-dev\n",
            "The following NEW packages will be installed:\n",
            "  pkg-config\n",
            "0 upgraded, 1 newly installed, 2 to remove and 66 not upgraded.\n",
            "Need to get 48.2 kB of archives.\n",
            "After this operation, 10.2 kB disk space will be freed.\n",
            "Get:1 http://archive.ubuntu.com/ubuntu jammy/main amd64 pkg-config amd64 0.29.2-1ubuntu3 [48.2 kB]\n",
            "Fetched 48.2 kB in 0s (162 kB/s)\n",
            "(Reading database ... \r(Reading database ... 5%\r(Reading database ... 10%\r(Reading database ... 15%\r(Reading database ... 20%\r(Reading database ... 25%\r(Reading database ... 30%\r(Reading database ... 35%\r(Reading database ... 40%\r(Reading database ... 45%\r(Reading database ... 50%\r(Reading database ... 55%\r(Reading database ... 60%\r(Reading database ... 65%\r(Reading database ... 70%\r(Reading database ... 75%\r(Reading database ... 80%\r(Reading database ... 85%\r(Reading database ... 90%\r(Reading database ... 95%\r(Reading database ... 100%\r(Reading database ... 126371 files and directories currently installed.)\r\n",
            "Removing r-base-dev (4.5.1-1.2204.0) ...\r\n",
            "dpkg: pkgconf: dependency problems, but removing anyway as you requested:\r\n",
            " libsndfile1-dev:amd64 depends on pkg-config; however:\r\n",
            "  Package pkg-config is not installed.\r\n",
            "  Package pkgconf which provides pkg-config is to be removed.\r\n",
            " libopencv-dev depends on pkg-config; however:\r\n",
            "  Package pkg-config is not installed.\r\n",
            "  Package pkgconf which provides pkg-config is to be removed.\r\n",
            " libmkl-dev:amd64 depends on pkg-config; however:\r\n",
            "  Package pkg-config is not installed.\r\n",
            "  Package pkgconf which provides pkg-config is to be removed.\r\n",
            " libjack-dev depends on pkg-config; however:\r\n",
            "  Package pkg-config is not installed.\r\n",
            "  Package pkgconf which provides pkg-config is to be removed.\r\n",
            " libgphoto2-dev:amd64 depends on pkg-config; however:\r\n",
            "  Package pkg-config is not installed.\r\n",
            "  Package pkgconf which provides pkg-config is to be removed.\r\n",
            " libglib2.0-dev:amd64 depends on pkg-config; however:\r\n",
            "  Package pkg-config is not installed.\r\n",
            "  Package pkgconf which provides pkg-config is to be removed.\r\n",
            " libfontconfig-dev:amd64 depends on pkg-config; however:\r\n",
            "  Package pkg-config is not installed.\r\n",
            "  Package pkgconf which provides pkg-config is to be removed.\r\n",
            "\r\n",
            "Removing pkgconf (1.8.0-1) ...\r\n",
            "Removing 'diversion of /usr/bin/pkg-config to /usr/bin/pkg-config.real by pkgconf'\r\n",
            "Removing 'diversion of /usr/share/aclocal/pkg.m4 to /usr/share/aclocal/pkg.real.m4 by pkgconf'\r\n",
            "Removing 'diversion of /usr/share/man/man1/pkg-config.1.gz to /usr/share/man/man1/pkg-config.real.1.gz by pkgconf'\r\n",
            "Removing 'diversion of /usr/share/pkg-config-crosswrapper to /usr/share/pkg-config-crosswrapper.real by pkgconf'\r\n",
            "Selecting previously unselected package pkg-config.\r\n",
            "(Reading database ... \r(Reading database ... 5%\r(Reading database ... 10%\r(Reading database ... 15%\r(Reading database ... 20%\r(Reading database ... 25%\r(Reading database ... 30%\r(Reading database ... 35%\r(Reading database ... 40%\r(Reading database ... 45%\r(Reading database ... 50%\r(Reading database ... 55%\r(Reading database ... 60%\r(Reading database ... 65%\r(Reading database ... 70%\r(Reading database ... 75%\r(Reading database ... 80%\r(Reading database ... 85%\r(Reading database ... 90%\r(Reading database ... 95%\r(Reading database ... 100%\r(Reading database ... 126347 files and directories currently installed.)\r\n",
            "Preparing to unpack .../pkg-config_0.29.2-1ubuntu3_amd64.deb ...\r\n",
            "Unpacking pkg-config (0.29.2-1ubuntu3) ...\r\n",
            "Setting up pkg-config (0.29.2-1ubuntu3) ...\r\n",
            "Processing triggers for man-db (2.10.2-1) ...\r\n",
            "nvcc version:\n",
            "nvcc: NVIDIA (R) Cuda compiler driver\n",
            "Copyright (c) 2005-2024 NVIDIA Corporation\n",
            "Built on Thu_Jun__6_02:18:23_PDT_2024\n",
            "Cuda compilation tools, release 12.5, V12.5.82\n",
            "Build cuda_12.5.r12.5/compiler.34385749_0\n"
          ]
        },
        {
          "output_type": "stream",
          "name": "stderr",
          "text": [
            "W: Skipping acquire of configured file 'main/source/Sources' as repository 'https://r2u.stat.illinois.edu/ubuntu jammy InRelease' does not seem to provide it (sources.list entry misspelt?)\n"
          ]
        }
      ],
      "source": [
        "%%bash\n",
        "set -e\n",
        "apt-get update -y\n",
        "apt-get install -y libopencv-dev pkg-config\n",
        "echo \"nvcc version:\"; nvcc --version || true"
      ],
      "id": "O0x3Z2s6u0wF"
    },
    {
      "cell_type": "markdown",
      "metadata": {
        "id": "RAF7X82pu0wF"
      },
      "source": [
        "## 2. Write `synthetic_example.cu` (Robust, Debuggable Version)\n",
        "This version allocates independent frequency arrays (kx, ky, kz) instead of re-using spatial arrays."
      ],
      "id": "RAF7X82pu0wF"
    },
    {
      "cell_type": "code",
      "execution_count": 3,
      "metadata": {
        "name": "synthetic_example.cu",
        "colab": {
          "base_uri": "https://localhost:8080/"
        },
        "id": "l1DHG8BWu0wF",
        "outputId": "4b11b567-4a0f-4bd7-cab3-b353db3a1e33"
      },
      "outputs": [
        {
          "output_type": "stream",
          "name": "stdout",
          "text": [
            "Writing synthetic_example.cu\n"
          ]
        }
      ],
      "source": [
        "%%writefile synthetic_example.cu\n",
        "#include <cuda_runtime.h>\n",
        "#include <cstdio>\n",
        "#include <cstdlib>\n",
        "#include <random>\n",
        "#include <iostream>\n",
        "#include <cmath>\n",
        "#include <algorithm>\n",
        "\n",
        "#ifndef CHECK_CUDA\n",
        "#define CHECK_CUDA(call) do { \\\n",
        "    cudaError_t _status = (call); \\\n",
        "    if (_status != cudaSuccess) { \\\n",
        "        std::cerr << \"[CUDA] \" << #call << \" failed: \" \\\n",
        "                  << cudaGetErrorString(_status) << \" (\" << _status << \") at \" \\\n",
        "                  << __FILE__ << \":\" << __LINE__ << std::endl; \\\n",
        "        std::exit(EXIT_FAILURE); \\\n",
        "    } \\\n",
        "} while(0)\n",
        "#endif\n",
        "\n",
        "#define FHD_THREADS_PER_BLOCK 256\n",
        "#define PI 3.14159265358979323846\n",
        "#ifndef CHUNK_SIZE\n",
        "#define CHUNK_SIZE 256\n",
        "#endif\n",
        "\n",
        "__constant__ float kx_c[CHUNK_SIZE];\n",
        "__constant__ float ky_c[CHUNK_SIZE];\n",
        "__constant__ float kz_c[CHUNK_SIZE];\n",
        "__constant__ float rMu_c[CHUNK_SIZE];\n",
        "__constant__ float iMu_c[CHUNK_SIZE];\n",
        "\n",
        "__global__ void accumulatePhi(\n",
        "    float* __restrict__ rPhi,\n",
        "    float* __restrict__ iPhi,\n",
        "    const float* __restrict__ x,\n",
        "    const float* __restrict__ y,\n",
        "    const float* __restrict__ z,\n",
        "    int N,\n",
        "    int mChunk\n",
        ") {\n",
        "    int n = blockIdx.x * blockDim.x + threadIdx.x;\n",
        "    if (n >= N) return;\n",
        "\n",
        "    float xn = x[n];\n",
        "    float yn = y[n];\n",
        "    float zn = z[n];\n",
        "    float rAcc = rPhi[n];\n",
        "    float iAcc = iPhi[n];\n",
        "\n",
        "    #pragma unroll\n",
        "    for (int m = 0; m < mChunk; ++m) {\n",
        "        float phase = 2.0f * (float)PI * (kx_c[m] * xn + ky_c[m] * yn + kz_c[m] * zn);\n",
        "        float s, c;\n",
        "        __sincosf(phase, &s, &c);\n",
        "        rAcc += rMu_c[m] * c - iMu_c[m] * s;\n",
        "        iAcc += iMu_c[m] * c + rMu_c[m] * s;\n",
        "    }\n",
        "    rPhi[n] = rAcc;\n",
        "    iPhi[n] = iAcc;\n",
        "}\n",
        "\n",
        "__global__ void computeMagnitude(\n",
        "    const float* __restrict__ rPhi,\n",
        "    const float* __restrict__ iPhi,\n",
        "    float* __restrict__ mag,\n",
        "    int N\n",
        ") {\n",
        "    int n = blockIdx.x * blockDim.x + threadIdx.x;\n",
        "    if (n >= N) return;\n",
        "    float r = rPhi[n];\n",
        "    float im = iPhi[n];\n",
        "    mag[n] = sqrtf(r * r + im * im);\n",
        "}\n",
        "\n",
        "int main(int argc, char** argv) {\n",
        "    int N = 2048; // spatial samples\n",
        "    int M = 2048; // frequency components\n",
        "    if (argc > 1) N = std::atoi(argv[1]);\n",
        "    if (argc > 2) M = std::atoi(argv[2]);\n",
        "    std::cout << \"Synthetic Example N=\" << N << \" M=\" << M << \" CHUNK_SIZE=\" << CHUNK_SIZE << std::endl;\n",
        "\n",
        "    float *x, *y, *z;\n",
        "    float *kx, *ky, *kz;\n",
        "    float *rMu, *iMu;\n",
        "    float *rPhi, *iPhi, *phiMag;\n",
        "\n",
        "    CHECK_CUDA(cudaMallocManaged(&x, N * sizeof(float)));\n",
        "    CHECK_CUDA(cudaMallocManaged(&y, N * sizeof(float)));\n",
        "    CHECK_CUDA(cudaMallocManaged(&z, N * sizeof(float)));\n",
        "    CHECK_CUDA(cudaMallocManaged(&kx, M * sizeof(float)));\n",
        "    CHECK_CUDA(cudaMallocManaged(&ky, M * sizeof(float)));\n",
        "    CHECK_CUDA(cudaMallocManaged(&kz, M * sizeof(float)));\n",
        "    CHECK_CUDA(cudaMallocManaged(&rMu, M * sizeof(float)));\n",
        "    CHECK_CUDA(cudaMallocManaged(&iMu, M * sizeof(float)));\n",
        "    CHECK_CUDA(cudaMallocManaged(&rPhi, N * sizeof(float)));\n",
        "    CHECK_CUDA(cudaMallocManaged(&iPhi, N * sizeof(float)));\n",
        "    CHECK_CUDA(cudaMallocManaged(&phiMag, N * sizeof(float)));\n",
        "\n",
        "    std::mt19937 gen(12345);\n",
        "    std::uniform_real_distribution<float> dis(-1.0f, 1.0f);\n",
        "    std::uniform_real_distribution<float> disPos(0.0f, 1.0f);\n",
        "\n",
        "    for (int i = 0; i < N; ++i) {\n",
        "        x[i] = disPos(gen);\n",
        "        y[i] = disPos(gen);\n",
        "        z[i] = dis(gen);\n",
        "        rPhi[i] = 0.f; iPhi[i] = 0.f;\n",
        "    }\n",
        "    for (int m = 0; m < M; ++m) {\n",
        "        kx[m] = dis(gen);\n",
        "        ky[m] = dis(gen);\n",
        "        kz[m] = dis(gen);\n",
        "        rMu[m] = dis(gen);\n",
        "        iMu[m] = dis(gen);\n",
        "    }\n",
        "\n",
        "    dim3 block(FHD_THREADS_PER_BLOCK);\n",
        "    dim3 grid((N + block.x - 1) / block.x);\n",
        "\n",
        "    cudaEvent_t start, stop;\n",
        "    CHECK_CUDA(cudaEventCreate(&start));\n",
        "    CHECK_CUDA(cudaEventCreate(&stop));\n",
        "    CHECK_CUDA(cudaEventRecord(start));\n",
        "\n",
        "    for (int base = 0; base < M; base += CHUNK_SIZE) {\n",
        "        int mChunk = std::min(CHUNK_SIZE, M - base);\n",
        "        CHECK_CUDA(cudaMemcpyToSymbol(kx_c,  kx  + base, mChunk * sizeof(float)));\n",
        "        CHECK_CUDA(cudaMemcpyToSymbol(ky_c,  ky  + base, mChunk * sizeof(float)));\n",
        "        CHECK_CUDA(cudaMemcpyToSymbol(kz_c,  kz  + base, mChunk * sizeof(float)));\n",
        "        CHECK_CUDA(cudaMemcpyToSymbol(rMu_c, rMu + base, mChunk * sizeof(float)));\n",
        "        CHECK_CUDA(cudaMemcpyToSymbol(iMu_c, iMu + base, mChunk * sizeof(float)));\n",
        "        accumulatePhi<<<grid, block>>>(rPhi, iPhi, x, y, z, N, mChunk);\n",
        "        CHECK_CUDA(cudaPeekAtLastError());\n",
        "    }\n",
        "\n",
        "    computeMagnitude<<<grid, block>>>(rPhi, iPhi, phiMag, N);\n",
        "    CHECK_CUDA(cudaPeekAtLastError());\n",
        "    CHECK_CUDA(cudaDeviceSynchronize());\n",
        "\n",
        "    CHECK_CUDA(cudaEventRecord(stop));\n",
        "    CHECK_CUDA(cudaEventSynchronize(stop));\n",
        "    float ms = 0.f; CHECK_CUDA(cudaEventElapsedTime(&ms, start, stop));\n",
        "    std::cout << \"Elapsed GPU time: \" << ms << \" ms\\n\";\n",
        "    for (int i = 0; i < std::min(5, N); ++i) {\n",
        "        std::cout << \"Idx \" << i << \" r=\" << rPhi[i] << \" i=\" << iPhi[i] << \" |phi|=\" << phiMag[i] << \"\\n\";\n",
        "    }\n",
        "\n",
        "    cudaFree(x); cudaFree(y); cudaFree(z);\n",
        "    cudaFree(kx); cudaFree(ky); cudaFree(kz);\n",
        "    cudaFree(rMu); cudaFree(iMu);\n",
        "    cudaFree(rPhi); cudaFree(iPhi); cudaFree(phiMag);\n",
        "    return 0;\n",
        "}\n"
      ],
      "id": "l1DHG8BWu0wF"
    },
    {
      "cell_type": "markdown",
      "metadata": {
        "id": "VuukgoKEu0wG"
      },
      "source": [
        "## 3. Write `image_example.cu` (Chunked Processing on Image)\n",
        "This version uses image pixel intensity as initial real component and coordinate-normalized positions as (x,y); it reuses slices of spatial arrays as pseudo frequency vectors (for demo). For real use, supply dedicated frequency arrays."
      ],
      "id": "VuukgoKEu0wG"
    },
    {
      "cell_type": "code",
      "execution_count": 4,
      "metadata": {
        "name": "image_example.cu",
        "colab": {
          "base_uri": "https://localhost:8080/"
        },
        "id": "0M2_wNldu0wG",
        "outputId": "c12994f4-5b7c-46aa-f24f-87d84167375a"
      },
      "outputs": [
        {
          "output_type": "stream",
          "name": "stdout",
          "text": [
            "Writing image_example.cu\n"
          ]
        }
      ],
      "source": [
        "%%writefile image_example.cu\n",
        "#include <cuda_runtime.h>\n",
        "#include <opencv2/opencv.hpp>\n",
        "#include <iostream>\n",
        "#include <cmath>\n",
        "#include <algorithm>\n",
        "\n",
        "#define FHD_THREADS_PER_BLOCK 256\n",
        "#define PI 3.14159265358979323846\n",
        "#ifndef CHUNK_SIZE\n",
        "#define CHUNK_SIZE 256\n",
        "#endif\n",
        "\n",
        "__constant__ float kx_c[CHUNK_SIZE], ky_c[CHUNK_SIZE], kz_c[CHUNK_SIZE];\n",
        "__constant__ float rMu_c[CHUNK_SIZE], iMu_c[CHUNK_SIZE];\n",
        "\n",
        "__global__ void accumulatePhi(float* rPhi,float* iPhi,\n",
        "                              const float* x,const float* y,const float* z,\n",
        "                              int N,int mChunk){\n",
        "    int n=blockIdx.x*blockDim.x+threadIdx.x;\n",
        "    if(n>=N)return;\n",
        "    float xn=x[n],yn=y[n],zn=z[n];\n",
        "    float rAcc=rPhi[n], iAcc=iPhi[n];\n",
        "    #pragma unroll\n",
        "    for(int m=0;m<mChunk;++m){\n",
        "        float phase=2.f*(float)PI*(kx_c[m]*xn+ky_c[m]*yn+kz_c[m]*zn);\n",
        "        float s,c; __sincosf(phase,&s,&c);\n",
        "        rAcc += rMu_c[m]*c - iMu_c[m]*s;\n",
        "        iAcc += iMu_c[m]*c + rMu_c[m]*s;\n",
        "    }\n",
        "    rPhi[n]=rAcc; iPhi[n]=iAcc;\n",
        "}\n",
        "__global__ void computeMagnitude(const float* rPhi,const float* iPhi,float* mag,int N){\n",
        "    int n=blockIdx.x*blockDim.x+threadIdx.x; if(n>=N)return;\n",
        "    float r=rPhi[n], im=iPhi[n]; mag[n]=sqrtf(r*r+im*im);\n",
        "}\n",
        "int main(int argc,char** argv){\n",
        "    std::string imgName=\"lena_gray.png\";\n",
        "    if(argc>1) imgName=argv[1];\n",
        "    cv::Mat raw=cv::imread(imgName,cv::IMREAD_GRAYSCALE);\n",
        "    if(raw.empty()){ std::cerr<<\"Could not open image: \"<<imgName<<\"\\n\"; return -1; }\n",
        "    cv::Mat image; raw.convertTo(image,CV_32F,1.0/255.0);\n",
        "    int rows=image.rows, cols=image.cols; int N=rows*cols; int M=1024;\n",
        "    std::cout<<\"Image Example: \"<<rows<<\"x\"<<cols<<\" N=\"<<N<<\" M=\"<<M<<\" CHUNK_SIZE=\"<<CHUNK_SIZE<<\"\\n\";\n",
        "\n",
        "    float *x,*y,*z,*rPhi,*iPhi,*phiMag,*rMu,*iMu;\n",
        "    cudaMallocManaged(&x,N*sizeof(float)); cudaMallocManaged(&y,N*sizeof(float)); cudaMallocManaged(&z,N*sizeof(float));\n",
        "    cudaMallocManaged(&rPhi,N*sizeof(float)); cudaMallocManaged(&iPhi,N*sizeof(float)); cudaMallocManaged(&phiMag,N*sizeof(float));\n",
        "    cudaMallocManaged(&rMu,M*sizeof(float)); cudaMallocManaged(&iMu,M*sizeof(float));\n",
        "\n",
        "    for(int r=0;r<rows;++r){ const float* rowPtr=image.ptr<float>(r); for(int c=0;c<cols;++c){ int idx=r*cols+c; x[idx]=(float)c/(cols-1); y[idx]=(float)r/(rows-1); z[idx]=rowPtr[c]; rPhi[idx]=z[idx]; iPhi[idx]=0.f; }}\n",
        "    for(int m=0;m<M;++m){ rMu[m]=(float)rand()/RAND_MAX; iMu[m]=(float)rand()/RAND_MAX; }\n",
        "\n",
        "    dim3 block(FHD_THREADS_PER_BLOCK), grid((N+block.x-1)/block.x);\n",
        "    for(int base=0;base<M;base+=CHUNK_SIZE){ int mChunk=std::min(CHUNK_SIZE,M-base);\n",
        "        cudaMemcpyToSymbol(kx_c,x+base,mChunk*sizeof(float));\n",
        "        cudaMemcpyToSymbol(ky_c,y+base,mChunk*sizeof(float));\n",
        "        cudaMemcpyToSymbol(kz_c,z+base,mChunk*sizeof(float));\n",
        "        cudaMemcpyToSymbol(rMu_c,rMu+base,mChunk*sizeof(float));\n",
        "        cudaMemcpyToSymbol(iMu_c,iMu+base,mChunk*sizeof(float));\n",
        "        accumulatePhi<<<grid,block>>>(rPhi,iPhi,x,y,z,N,mChunk);\n",
        "        cudaPeekAtLastError();\n",
        "    }\n",
        "    computeMagnitude<<<grid,block>>>(rPhi,iPhi,phiMag,N);\n",
        "    cudaDeviceSynchronize();\n",
        "\n",
        "    cv::Mat out(rows,cols,CV_32F);\n",
        "    for(int r=0;r<rows;++r){ float* rowPtr=out.ptr<float>(r); for(int c=0;c<cols;++c) rowPtr[c]=phiMag[r*cols+c]; }\n",
        "    cv::normalize(out,out,0.f,255.f,cv::NORM_MINMAX); out.convertTo(out,CV_8U); cv::imwrite(\"output.jpg\",out);\n",
        "    std::cout<<\"Saved output.jpg\"<<std::endl;\n",
        "    cudaFree(x);cudaFree(y);cudaFree(z);cudaFree(rPhi);cudaFree(iPhi);cudaFree(phiMag);cudaFree(rMu);cudaFree(iMu); return 0; }\n"
      ],
      "id": "0M2_wNldu0wG"
    },
    {
      "cell_type": "markdown",
      "metadata": {
        "id": "Y9ve61VPu0wG"
      },
      "source": [
        "## 4. Write `unified_optimized.cu`\n",
        "Unified program supporting two modes:\n",
        "- `--mode=synthetic --N=... --M=...`\n",
        "- `--mode=image --img=path --M=...`\n",
        "Reuses spatial data slices as pseudo frequency vectors (demo). For real workloads, provide actual kx/ky/kz arrays."
      ],
      "id": "Y9ve61VPu0wG"
    },
    {
      "cell_type": "code",
      "execution_count": 5,
      "metadata": {
        "name": "unified_optimized.cu",
        "colab": {
          "base_uri": "https://localhost:8080/"
        },
        "id": "HEx0V28uu0wG",
        "outputId": "b3395a37-dbd9-4603-8b27-606c601b9ec7"
      },
      "outputs": [
        {
          "output_type": "stream",
          "name": "stdout",
          "text": [
            "Writing unified_optimized.cu\n"
          ]
        }
      ],
      "source": [
        "%%writefile unified_optimized.cu\n",
        "#include <cuda_runtime.h>\n",
        "#include <opencv2/opencv.hpp>\n",
        "#include <iostream>\n",
        "#include <random>\n",
        "#include <cstring>\n",
        "#include <cmath>\n",
        "#include <algorithm>\n",
        "\n",
        "#define PI 3.14159265358979323846\n",
        "#ifndef FHD_THREADS_PER_BLOCK\n",
        "#define FHD_THREADS_PER_BLOCK 256\n",
        "#endif\n",
        "#ifndef CHUNK_SIZE\n",
        "#define CHUNK_SIZE 256\n",
        "#endif\n",
        "\n",
        "__constant__ float kx_c[CHUNK_SIZE], ky_c[CHUNK_SIZE], kz_c[CHUNK_SIZE];\n",
        "__constant__ float rMu_c[CHUNK_SIZE], iMu_c[CHUNK_SIZE];\n",
        "\n",
        "__global__ void accumulatePhi(float* rPhi,float* iPhi,const float* x,const float* y,const float* z,int N,int mChunk){\n",
        "    int n=blockIdx.x*blockDim.x+threadIdx.x; if(n>=N) return; float xn=x[n], yn=y[n], zn=z[n]; float rAcc=rPhi[n], iAcc=iPhi[n];\n",
        "    #pragma unroll\n",
        "    for(int m=0;m<mChunk;++m){ float phase=2.f*(float)PI*(kx_c[m]*xn+ky_c[m]*yn+kz_c[m]*zn); float s,c; __sincosf(phase,&s,&c); rAcc+=rMu_c[m]*c - iMu_c[m]*s; iAcc+=iMu_c[m]*c + rMu_c[m]*s; }\n",
        "    rPhi[n]=rAcc; iPhi[n]=iAcc;\n",
        "}\n",
        "__global__ void computeMagnitude(const float* rPhi,const float* iPhi,float* mag,int N){ int n=blockIdx.x*blockDim.x+threadIdx.x; if(n>=N)return; float r=rPhi[n], im=iPhi[n]; mag[n]=sqrtf(r*r+im*im);}\n",
        "\n",
        "struct Params { std::string mode=\"synthetic\"; std::string img=\"lena_gray.png\"; int N=1024; int M=1024; };\n",
        "Params parseArgs(int argc,char** argv){ Params p; for(int i=1;i<argc;++i){ if(!std::strcmp(argv[i],\"--mode\")&&i+1<argc)p.mode=argv[++i]; else if(!std::strcmp(argv[i],\"--img\")&&i+1<argc)p.img=argv[++i]; else if(!std::strcmp(argv[i],\"--N\")&&i+1<argc)p.N=std::atoi(argv[++i]); else if(!std::strcmp(argv[i],\"--M\")&&i+1<argc)p.M=std::atoi(argv[++i]); } return p; }\n",
        "\n",
        "int main(int argc,char** argv){ Params params=parseArgs(argc,argv); float *x,*y,*z,*rPhi,*iPhi,*phiMag,*rMu,*iMu; int N, M=params.M; cv::Mat img;\n",
        "    if(params.mode==\"image\"){ cv::Mat raw=cv::imread(params.img,cv::IMREAD_GRAYSCALE); if(raw.empty()){ std::cerr<<\"Failed to read image\\n\"; return -1;} raw.convertTo(img,CV_32F,1.0/255.0); N=img.rows*img.cols; std::cout<<\"Mode=image size=\"<<img.rows<<\"x\"<<img.cols<<\" N=\"<<N<<\" M=\"<<M<<\" CHUNK_SIZE=\"<<CHUNK_SIZE<<\"\\n\"; }\n",
        "    else { N=params.N; std::cout<<\"Mode=synthetic N=\"<<N<<\" M=\"<<M<<\" CHUNK_SIZE=\"<<CHUNK_SIZE<<\"\\n\"; }\n",
        "    cudaMallocManaged(&x,N*sizeof(float)); cudaMallocManaged(&y,N*sizeof(float)); cudaMallocManaged(&z,N*sizeof(float));\n",
        "    cudaMallocManaged(&rPhi,N*sizeof(float)); cudaMallocManaged(&iPhi,N*sizeof(float)); cudaMallocManaged(&phiMag,N*sizeof(float));\n",
        "    cudaMallocManaged(&rMu,M*sizeof(float)); cudaMallocManaged(&iMu,M*sizeof(float));\n",
        "\n",
        "    if(params.mode==\"image\"){ int rows=img.rows, cols=img.cols; for(int r=0;r<rows;++r){ const float* rowPtr=img.ptr<float>(r); for(int c=0;c<cols;++c){ int idx=r*cols+c; x[idx]=(float)c/(cols-1); y[idx]=(float)r/(rows-1); z[idx]=rowPtr[c]; rPhi[idx]=z[idx]; iPhi[idx]=0.f; }}} else { std::mt19937 gen(42); std::uniform_real_distribution<float> dis(-1.f,1.f); for(int i=0;i<N;++i){ x[i]=dis(gen); y[i]=dis(gen); z[i]=dis(gen); rPhi[i]=0.f; iPhi[i]=0.f; }}\n",
        "    for(int m=0;m<M;++m){ rMu[m]=(float)rand()/RAND_MAX; iMu[m]=(float)rand()/RAND_MAX; }\n",
        "\n",
        "    dim3 block(FHD_THREADS_PER_BLOCK), grid((N+block.x-1)/block.x);\n",
        "    cudaEvent_t start,stop; cudaEventCreate(&start); cudaEventCreate(&stop); cudaEventRecord(start);\n",
        "    for(int base=0;base<M;base+=CHUNK_SIZE){ int mChunk=std::min(CHUNK_SIZE,M-base); cudaMemcpyToSymbol(kx_c,x+(base%N),mChunk*sizeof(float)); cudaMemcpyToSymbol(ky_c,y+(base%N),mChunk*sizeof(float)); cudaMemcpyToSymbol(kz_c,z+(base%N),mChunk*sizeof(float)); cudaMemcpyToSymbol(rMu_c,rMu+base,mChunk*sizeof(float)); cudaMemcpyToSymbol(iMu_c,iMu+base,mChunk*sizeof(float)); accumulatePhi<<<grid,block>>>(rPhi,iPhi,x,y,z,N,mChunk); cudaPeekAtLastError(); }\n",
        "    computeMagnitude<<<grid,block>>>(rPhi,iPhi,phiMag,N); cudaDeviceSynchronize(); cudaEventRecord(stop); cudaEventSynchronize(stop); float ms; cudaEventElapsedTime(&ms,start,stop); std::cout<<\"Computation time: \"<<ms<<\" ms\\n\";\n",
        "    for(int i=0;i<std::min(5,N);++i) std::cout<<\"Idx \"<<i<<\" rPhi=\"<<rPhi[i]<<\" iPhi=\"<<iPhi[i]<<\" |phi|=\"<<phiMag[i]<<\"\\n\";\n",
        "    if(params.mode==\"image\"){ cv::Mat out(img.rows,img.cols,CV_32F); for(int r=0;r<img.rows;++r){ float* rowPtr=out.ptr<float>(r); for(int c=0;c<img.cols;++c) rowPtr[c]=phiMag[r*img.cols+c]; } cv::normalize(out,out,0.f,255.f,cv::NORM_MINMAX); out.convertTo(out,CV_8U); cv::imwrite(\"output.jpg\",out); std::cout<<\"Saved output.jpg\\n\"; }\n",
        "    cudaFree(x);cudaFree(y);cudaFree(z);cudaFree(rPhi);cudaFree(iPhi);cudaFree(phiMag);cudaFree(rMu);cudaFree(iMu); return 0; }\n"
      ],
      "id": "HEx0V28uu0wG"
    },
    {
      "cell_type": "markdown",
      "metadata": {
        "id": "JuxAnlACu0wH"
      },
      "source": [
        "## 5. Build All Binaries\n",
        "We compile all three with optimization and fast math. You can add `-G -O0` to debug kernels (slower)."
      ],
      "id": "JuxAnlACu0wH"
    },
    {
      "cell_type": "code",
      "execution_count": 6,
      "metadata": {
        "colab": {
          "base_uri": "https://localhost:8080/"
        },
        "id": "BKhmaAMMu0wH",
        "outputId": "a05f7ae0-32ff-40d7-89b7-4f84cb5894ef"
      },
      "outputs": [
        {
          "output_type": "stream",
          "name": "stdout",
          "text": [
            "Compiling synthetic_example.cu\n",
            "Compiling image_example.cu\n",
            "Compiling unified_optimized.cu\n",
            "Done.\n"
          ]
        },
        {
          "output_type": "stream",
          "name": "stderr",
          "text": [
            "/usr/include/opencv4/opencv2/stitching/detail/warpers.hpp(235): warning #611-D: overloaded virtual function \"cv::detail::PlaneWarper::buildMaps\" is only partially overridden in class \"cv::detail::AffineWarper\"\n",
            "  class AffineWarper : public PlaneWarper\n",
            "        ^\n",
            "\n",
            "Remark: The warnings can be suppressed with \"-diag-suppress <warning-number>\"\n",
            "\n",
            "/usr/include/opencv4/opencv2/stitching/detail/warpers.hpp(235): warning #611-D: overloaded virtual function \"cv::detail::PlaneWarper::warp\" is only partially overridden in class \"cv::detail::AffineWarper\"\n",
            "  class AffineWarper : public PlaneWarper\n",
            "        ^\n",
            "\n",
            "/usr/include/opencv4/opencv2/stitching/detail/blenders.hpp(100): warning #611-D: overloaded virtual function \"cv::detail::Blender::prepare\" is only partially overridden in class \"cv::detail::FeatherBlender\"\n",
            "  class FeatherBlender : public Blender\n",
            "        ^\n",
            "\n",
            "/usr/include/opencv4/opencv2/stitching/detail/blenders.hpp(127): warning #611-D: overloaded virtual function \"cv::detail::Blender::prepare\" is only partially overridden in class \"cv::detail::MultiBandBlender\"\n",
            "  class MultiBandBlender : public Blender\n",
            "        ^\n",
            "\n",
            "/usr/include/opencv4/opencv2/stitching/detail/warpers.hpp(235): warning #611-D: overloaded virtual function \"cv::detail::PlaneWarper::buildMaps\" is only partially overridden in class \"cv::detail::AffineWarper\"\n",
            "  class AffineWarper : public PlaneWarper\n",
            "        ^\n",
            "\n",
            "Remark: The warnings can be suppressed with \"-diag-suppress <warning-number>\"\n",
            "\n",
            "/usr/include/opencv4/opencv2/stitching/detail/warpers.hpp(235): warning #611-D: overloaded virtual function \"cv::detail::PlaneWarper::warp\" is only partially overridden in class \"cv::detail::AffineWarper\"\n",
            "  class AffineWarper : public PlaneWarper\n",
            "        ^\n",
            "\n",
            "/usr/include/opencv4/opencv2/stitching/detail/blenders.hpp(100): warning #611-D: overloaded virtual function \"cv::detail::Blender::prepare\" is only partially overridden in class \"cv::detail::FeatherBlender\"\n",
            "  class FeatherBlender : public Blender\n",
            "        ^\n",
            "\n",
            "/usr/include/opencv4/opencv2/stitching/detail/blenders.hpp(127): warning #611-D: overloaded virtual function \"cv::detail::Blender::prepare\" is only partially overridden in class \"cv::detail::MultiBandBlender\"\n",
            "  class MultiBandBlender : public Blender\n",
            "        ^\n",
            "\n",
            "/usr/include/opencv4/opencv2/stitching/detail/warpers.hpp(235): warning #611-D: overloaded virtual function \"cv::detail::PlaneWarper::buildMaps\" is only partially overridden in class \"cv::detail::AffineWarper\"\n",
            "  class AffineWarper : public PlaneWarper\n",
            "        ^\n",
            "\n",
            "Remark: The warnings can be suppressed with \"-diag-suppress <warning-number>\"\n",
            "\n",
            "/usr/include/opencv4/opencv2/stitching/detail/warpers.hpp(235): warning #611-D: overloaded virtual function \"cv::detail::PlaneWarper::warp\" is only partially overridden in class \"cv::detail::AffineWarper\"\n",
            "  class AffineWarper : public PlaneWarper\n",
            "        ^\n",
            "\n",
            "/usr/include/opencv4/opencv2/stitching/detail/blenders.hpp(100): warning #611-D: overloaded virtual function \"cv::detail::Blender::prepare\" is only partially overridden in class \"cv::detail::FeatherBlender\"\n",
            "  class FeatherBlender : public Blender\n",
            "        ^\n",
            "\n",
            "/usr/include/opencv4/opencv2/stitching/detail/blenders.hpp(127): warning #611-D: overloaded virtual function \"cv::detail::Blender::prepare\" is only partially overridden in class \"cv::detail::MultiBandBlender\"\n",
            "  class MultiBandBlender : public Blender\n",
            "        ^\n",
            "\n",
            "/usr/include/opencv4/opencv2/stitching/detail/warpers.hpp(235): warning #611-D: overloaded virtual function \"cv::detail::PlaneWarper::buildMaps\" is only partially overridden in class \"cv::detail::AffineWarper\"\n",
            "  class AffineWarper : public PlaneWarper\n",
            "        ^\n",
            "\n",
            "Remark: The warnings can be suppressed with \"-diag-suppress <warning-number>\"\n",
            "\n",
            "/usr/include/opencv4/opencv2/stitching/detail/warpers.hpp(235): warning #611-D: overloaded virtual function \"cv::detail::PlaneWarper::warp\" is only partially overridden in class \"cv::detail::AffineWarper\"\n",
            "  class AffineWarper : public PlaneWarper\n",
            "        ^\n",
            "\n",
            "/usr/include/opencv4/opencv2/stitching/detail/blenders.hpp(100): warning #611-D: overloaded virtual function \"cv::detail::Blender::prepare\" is only partially overridden in class \"cv::detail::FeatherBlender\"\n",
            "  class FeatherBlender : public Blender\n",
            "        ^\n",
            "\n",
            "/usr/include/opencv4/opencv2/stitching/detail/blenders.hpp(127): warning #611-D: overloaded virtual function \"cv::detail::Blender::prepare\" is only partially overridden in class \"cv::detail::MultiBandBlender\"\n",
            "  class MultiBandBlender : public Blender\n",
            "        ^\n",
            "\n"
          ]
        }
      ],
      "source": [
        "%%bash\n",
        "set -e\n",
        "echo \"Compiling synthetic_example.cu\";\n",
        "nvcc -O3 -use_fast_math -std=c++17 synthetic_example.cu -o synthetic\n",
        "echo \"Compiling image_example.cu\";\n",
        "nvcc -O3 -use_fast_math -std=c++17 image_example.cu -o image_app `pkg-config --cflags --libs opencv4`\n",
        "echo \"Compiling unified_optimized.cu\";\n",
        "nvcc -O3 -use_fast_math -std=c++17 unified_optimized.cu -o unified_app `pkg-config --cflags --libs opencv4`\n",
        "echo \"Done.\""
      ],
      "id": "BKhmaAMMu0wH"
    },
    {
      "cell_type": "markdown",
      "metadata": {
        "id": "0lsoRwKLu0wH"
      },
      "source": [
        "## 6. Run Synthetic Example\n",
        "Arguments: `N M`. Feel free to modify."
      ],
      "id": "0lsoRwKLu0wH"
    },
    {
      "cell_type": "code",
      "execution_count": 7,
      "metadata": {
        "colab": {
          "base_uri": "https://localhost:8080/"
        },
        "id": "25Po260du0wH",
        "outputId": "a133d2e1-4927-4b24-8e62-eba7495af188"
      },
      "outputs": [
        {
          "output_type": "stream",
          "name": "stdout",
          "text": [
            "Synthetic Example N=2048 M=2048 CHUNK_SIZE=256\n",
            "[CUDA] cudaMemcpyToSymbol(kx_c, kx + base, mChunk * sizeof(float)) failed: the provided PTX was compiled with an unsupported toolchain. (222) at synthetic_example.cu:128\n"
          ]
        }
      ],
      "source": [
        "!./synthetic 2048 2048"
      ],
      "id": "25Po260du0wH"
    },
    {
      "cell_type": "markdown",
      "metadata": {
        "id": "W2kbVY36u0wH"
      },
      "source": [
        "## 7. Download Test Image (Lena) & Run Image Example\n",
        "We fetch a sample image (color JPEG), the program loads it as grayscale. Output will be `output.jpg`."
      ],
      "id": "W2kbVY36u0wH"
    },
    {
      "cell_type": "code",
      "execution_count": 8,
      "metadata": {
        "colab": {
          "base_uri": "https://localhost:8080/"
        },
        "id": "-QCnuQfFu0wH",
        "outputId": "b093f61b-4e29-4b16-d45b-31ccc0f6acf0"
      },
      "outputs": [
        {
          "output_type": "stream",
          "name": "stdout",
          "text": [
            "Image Example: 512x512 N=262144 M=1024 CHUNK_SIZE=256\n",
            "Saved output.jpg\n"
          ]
        }
      ],
      "source": [
        "!wget -q -O lena_gray.png https://raw.githubusercontent.com/opencv/opencv/master/samples/data/lena.jpg\n",
        "!./image_app lena_gray.png"
      ],
      "id": "-QCnuQfFu0wH"
    },
    {
      "cell_type": "markdown",
      "metadata": {
        "id": "EPcmiVGvu0wI"
      },
      "source": [
        "## 8. Run Unified App (Synthetic Mode)"
      ],
      "id": "EPcmiVGvu0wI"
    },
    {
      "cell_type": "code",
      "execution_count": 9,
      "metadata": {
        "colab": {
          "base_uri": "https://localhost:8080/"
        },
        "id": "33VtelXau0wI",
        "outputId": "3ea5601d-443e-4f65-8aae-74cc25f226c0"
      },
      "outputs": [
        {
          "output_type": "stream",
          "name": "stdout",
          "text": [
            "Mode=synthetic N=1024 M=1024 CHUNK_SIZE=256\n",
            "Computation time: 9.29347 ms\n",
            "Idx 0 rPhi=0 iPhi=0 |phi|=0\n",
            "Idx 1 rPhi=0 iPhi=0 |phi|=0\n",
            "Idx 2 rPhi=0 iPhi=0 |phi|=0\n",
            "Idx 3 rPhi=0 iPhi=0 |phi|=0\n",
            "Idx 4 rPhi=0 iPhi=0 |phi|=0\n"
          ]
        }
      ],
      "source": [
        "!./unified_app --mode=synthetic --N=4096 --M=2048"
      ],
      "id": "33VtelXau0wI"
    },
    {
      "cell_type": "markdown",
      "metadata": {
        "id": "QoCQUqrvu0wI"
      },
      "source": [
        "## 9. Run Unified App (Image Mode)"
      ],
      "id": "QoCQUqrvu0wI"
    },
    {
      "cell_type": "code",
      "execution_count": 10,
      "metadata": {
        "colab": {
          "base_uri": "https://localhost:8080/"
        },
        "id": "NCQwAlhuu0wI",
        "outputId": "bb902851-262e-428a-c6a5-6259e0aa63f7"
      },
      "outputs": [
        {
          "output_type": "stream",
          "name": "stdout",
          "text": [
            "Mode=synthetic N=1024 M=1024 CHUNK_SIZE=256\n",
            "Computation time: 11.6716 ms\n",
            "Idx 0 rPhi=0 iPhi=0 |phi|=0\n",
            "Idx 1 rPhi=0 iPhi=0 |phi|=0\n",
            "Idx 2 rPhi=0 iPhi=0 |phi|=0\n",
            "Idx 3 rPhi=0 iPhi=0 |phi|=0\n",
            "Idx 4 rPhi=0 iPhi=0 |phi|=0\n"
          ]
        }
      ],
      "source": [
        "!./unified_app --mode=image --img=lena_gray.png --M=2048"
      ],
      "id": "NCQwAlhuu0wI"
    },
    {
      "cell_type": "markdown",
      "metadata": {
        "id": "KfXwe7JMu0wI"
      },
      "source": [
        "## 10. Display Output Image\n",
        "If the previous image-based runs were successful, `output.jpg` should exist."
      ],
      "id": "KfXwe7JMu0wI"
    },
    {
      "cell_type": "code",
      "execution_count": 13,
      "metadata": {
        "colab": {
          "base_uri": "https://localhost:8080/",
          "height": 529
        },
        "id": "fAUSrykvu0wI",
        "outputId": "b2dac260-0704-499d-c1f8-cfa3b84109ac"
      },
      "outputs": [
        {
          "output_type": "display_data",
          "data": {
            "image/jpeg": "[encoded data removed]",
            "text/plain": [
              "<IPython.core.display.Image object>"
            ]
          },
          "metadata": {}
        }
      ],
      "source": [
        "from IPython.display import Image, display\n",
        "import os\n",
        "if os.path.exists(\"output.jpg\"):\n",
        "    display(Image(\"output.jpg\"))\n",
        "else:\n",
        "    print(\"output.jpg not found.\")"
      ],
      "id": "fAUSrykvu0wI"
    },
    {
      "cell_type": "markdown",
      "metadata": {
        "id": "dIOgRHNPu0wI"
      },
      "source": [
        "## 11. Optional: Rebuild With Different CHUNK_SIZE\n",
        "Example: CHUNK_SIZE=512 (must fit constant memory limits)."
      ],
      "id": "dIOgRHNPu0wI"
    },
    {
      "cell_type": "code",
      "execution_count": 12,
      "metadata": {
        "colab": {
          "base_uri": "https://localhost:8080/"
        },
        "id": "ETDrDQnAu0wI",
        "outputId": "41ef9bcb-c812-41ef-bb7a-f0d425f87afc"
      },
      "outputs": [
        {
          "output_type": "stream",
          "name": "stdout",
          "text": [
            "Rebuilding unified with CHUNK_SIZE=512\n",
            "Mode=synthetic N=1024 M=1024 CHUNK_SIZE=512\n",
            "Computation time: 11.434 ms\n",
            "Idx 0 rPhi=0 iPhi=0 |phi|=0\n",
            "Idx 1 rPhi=0 iPhi=0 |phi|=0\n",
            "Idx 2 rPhi=0 iPhi=0 |phi|=0\n",
            "Idx 3 rPhi=0 iPhi=0 |phi|=0\n",
            "Idx 4 rPhi=0 iPhi=0 |phi|=0\n"
          ]
        },
        {
          "output_type": "stream",
          "name": "stderr",
          "text": [
            "/usr/include/opencv4/opencv2/stitching/detail/warpers.hpp(235): warning #611-D: overloaded virtual function \"cv::detail::PlaneWarper::buildMaps\" is only partially overridden in class \"cv::detail::AffineWarper\"\n",
            "  class AffineWarper : public PlaneWarper\n",
            "        ^\n",
            "\n",
            "Remark: The warnings can be suppressed with \"-diag-suppress <warning-number>\"\n",
            "\n",
            "/usr/include/opencv4/opencv2/stitching/detail/warpers.hpp(235): warning #611-D: overloaded virtual function \"cv::detail::PlaneWarper::warp\" is only partially overridden in class \"cv::detail::AffineWarper\"\n",
            "  class AffineWarper : public PlaneWarper\n",
            "        ^\n",
            "\n",
            "/usr/include/opencv4/opencv2/stitching/detail/blenders.hpp(100): warning #611-D: overloaded virtual function \"cv::detail::Blender::prepare\" is only partially overridden in class \"cv::detail::FeatherBlender\"\n",
            "  class FeatherBlender : public Blender\n",
            "        ^\n",
            "\n",
            "/usr/include/opencv4/opencv2/stitching/detail/blenders.hpp(127): warning #611-D: overloaded virtual function \"cv::detail::Blender::prepare\" is only partially overridden in class \"cv::detail::MultiBandBlender\"\n",
            "  class MultiBandBlender : public Blender\n",
            "        ^\n",
            "\n",
            "/usr/include/opencv4/opencv2/stitching/detail/warpers.hpp(235): warning #611-D: overloaded virtual function \"cv::detail::PlaneWarper::buildMaps\" is only partially overridden in class \"cv::detail::AffineWarper\"\n",
            "  class AffineWarper : public PlaneWarper\n",
            "        ^\n",
            "\n",
            "Remark: The warnings can be suppressed with \"-diag-suppress <warning-number>\"\n",
            "\n",
            "/usr/include/opencv4/opencv2/stitching/detail/warpers.hpp(235): warning #611-D: overloaded virtual function \"cv::detail::PlaneWarper::warp\" is only partially overridden in class \"cv::detail::AffineWarper\"\n",
            "  class AffineWarper : public PlaneWarper\n",
            "        ^\n",
            "\n",
            "/usr/include/opencv4/opencv2/stitching/detail/blenders.hpp(100): warning #611-D: overloaded virtual function \"cv::detail::Blender::prepare\" is only partially overridden in class \"cv::detail::FeatherBlender\"\n",
            "  class FeatherBlender : public Blender\n",
            "        ^\n",
            "\n",
            "/usr/include/opencv4/opencv2/stitching/detail/blenders.hpp(127): warning #611-D: overloaded virtual function \"cv::detail::Blender::prepare\" is only partially overridden in class \"cv::detail::MultiBandBlender\"\n",
            "  class MultiBandBlender : public Blender\n",
            "        ^\n",
            "\n"
          ]
        }
      ],
      "source": [
        "%%bash\n",
        "set -e\n",
        "echo \"Rebuilding unified with CHUNK_SIZE=512\";\n",
        "nvcc -O3 -use_fast_math -std=c++17 -DCHUNK_SIZE=512 unified_optimized.cu -o unified_app_512 `pkg-config --cflags --libs opencv4`\n",
        "./unified_app_512 --mode=synthetic --N=4096 --M=3072"
      ],
      "id": "ETDrDQnAu0wI"
    }
  ],
  "metadata": {
    "kernelspec": {
      "display_name": "Python 3",
      "name": "python3"
    },
    "language_info": {
      "name": "python",
      "version": "3.10"
    },
    "colab": {
      "provenance": [],
      "gpuType": "T4"
    },
    "accelerator": "GPU"
  },
  "nbformat": 4,
  "nbformat_minor": 5
}