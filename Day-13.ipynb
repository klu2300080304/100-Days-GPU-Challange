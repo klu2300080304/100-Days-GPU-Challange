{
  "nbformat": 4,
  "nbformat_minor": 0,
  "metadata": {
    "colab": {
      "provenance": [],
      "gpuType": "T4"
    },
    "kernelspec": {
      "name": "python3",
      "display_name": "Python 3"
    },
    "language_info": {
      "name": "python"
    },
    "accelerator": "GPU"
  },
  "cells": [
    {
      "cell_type": "code",
      "execution_count": 1,
      "metadata": {
        "colab": {
          "base_uri": "https://localhost:8080/"
        },
        "id": "TcUfIivukLBL",
        "outputId": "76b768b3-8503-495b-ec1f-6199be10ac11"
      },
      "outputs": [
        {
          "output_type": "stream",
          "name": "stdout",
          "text": [
            "Tue Aug 19 18:22:17 2025       \n",
            "+-----------------------------------------------------------------------------------------+\n",
            "| NVIDIA-SMI 550.54.15              Driver Version: 550.54.15      CUDA Version: 12.4     |\n",
            "|-----------------------------------------+------------------------+----------------------+\n",
            "| GPU  Name                 Persistence-M | Bus-Id          Disp.A | Volatile Uncorr. ECC |\n",
            "| Fan  Temp   Perf          Pwr:Usage/Cap |           Memory-Usage | GPU-Util  Compute M. |\n",
            "|                                         |                        |               MIG M. |\n",
            "|=========================================+========================+======================|\n",
            "|   0  Tesla T4                       Off |   00000000:00:04.0 Off |                    0 |\n",
            "| N/A   38C    P8              9W /   70W |       0MiB /  15360MiB |      0%      Default |\n",
            "|                                         |                        |                  N/A |\n",
            "+-----------------------------------------+------------------------+----------------------+\n",
            "                                                                                         \n",
            "+-----------------------------------------------------------------------------------------+\n",
            "| Processes:                                                                              |\n",
            "|  GPU   GI   CI        PID   Type   Process name                              GPU Memory |\n",
            "|        ID   ID                                                               Usage      |\n",
            "|=========================================================================================|\n",
            "|  No running processes found                                                             |\n",
            "+-----------------------------------------------------------------------------------------+\n"
          ]
        }
      ],
      "source": [
        "!nvidia-smi\n"
      ]
    },
    {
      "cell_type": "code",
      "source": [
        "%%writefile bfs.h\n",
        "#pragma once\n",
        "#include <cuda_runtime.h>\n",
        "#include <stdio.h>\n",
        "\n",
        "#define THREADS_PER_BLOCK 256\n",
        "\n",
        "#define CHECK_CUDA_ERROR(call) do{cudaError_t e=(call);if(e!=cudaSuccess){fprintf(stderr,\"CUDA error %s:%d: %s\\n\",__FILE__,__LINE__,cudaGetErrorString(e));exit(1);}}while(0)\n",
        "\n",
        "void bfs_gpu(int source, int num_vertices, int num_edges, int* h_edges, int* h_dest, int* h_labels);\n"
      ],
      "metadata": {
        "colab": {
          "base_uri": "https://localhost:8080/"
        },
        "id": "SVeJEkD8kXKO",
        "outputId": "126857b1-a9b1-4f2e-923e-4091de658b47"
      },
      "execution_count": 6,
      "outputs": [
        {
          "output_type": "stream",
          "name": "stdout",
          "text": [
            "Overwriting bfs.h\n"
          ]
        }
      ]
    },
    {
      "cell_type": "code",
      "source": [
        "%%writefile bfs_kernel.cu\n",
        "#include \"bfs.h\"\n",
        "\n",
        "__global__ void bfs_kernel(int level, int n, const int* edges, const int* dest, int* labels, int* done){\n",
        "    int v = blockIdx.x * blockDim.x + threadIdx.x;\n",
        "    if (v >= n) return;\n",
        "    if (labels[v] != level) return;\n",
        "\n",
        "    int s = edges[v];\n",
        "    int e = edges[v + 1];\n",
        "    for (int i = s; i < e; i++){\n",
        "        int u = dest[i];\n",
        "        if (atomicCAS(&labels[u], -1, level + 1) == -1){\n",
        "            *done = 1;  // mark progress found\n",
        "        }\n",
        "    }\n",
        "}\n",
        "\n",
        "extern \"C\" void launch_bfs_kernel(int level, int num_vertices, const int* d_edges, const int* d_dest, int* d_labels, int* d_done){\n",
        "    int threadsPerBlock = THREADS_PER_BLOCK;\n",
        "    int blocksPerGrid = (num_vertices + threadsPerBlock - 1) / threadsPerBlock;\n",
        "    bfs_kernel<<<blocksPerGrid, threadsPerBlock>>>(level, num_vertices, d_edges, d_dest, d_labels, d_done);\n",
        "}\n"
      ],
      "metadata": {
        "colab": {
          "base_uri": "https://localhost:8080/"
        },
        "id": "mnvludABkZi5",
        "outputId": "f3114e64-b263-4f8b-eca4-a80a046e6e67"
      },
      "execution_count": 7,
      "outputs": [
        {
          "output_type": "stream",
          "name": "stdout",
          "text": [
            "Overwriting bfs_kernel.cu\n"
          ]
        }
      ]
    },
    {
      "cell_type": "code",
      "source": [
        "%%writefile bfs.cu\n",
        "#include <cuda_runtime.h>\n",
        "#include <vector>\n",
        "#include <iostream>\n",
        "#include <stdio.h>\n",
        "\n",
        "#define TPB 256\n",
        "#define CE(x) do{cudaError_t e=(x); if(e!=cudaSuccess){fprintf(stderr,\"CUDA error %s:%d: %s\\n\",__FILE__,__LINE__,cudaGetErrorString(e)); exit(1);} }while(0)\n",
        "\n",
        "__global__ void bfs_kernel(int level, int n, const int* edges, const int* dest, int* labels, int* changed){\n",
        "    int v = blockIdx.x * blockDim.x + threadIdx.x;\n",
        "    if (v >= n) return;\n",
        "    if (labels[v] != level) return;\n",
        "    int s = edges[v];\n",
        "    int e = edges[v + 1];\n",
        "    for (int i = s; i < e; i++){\n",
        "        int u = dest[i];\n",
        "        if (atomicCAS(&labels[u], -1, level + 1) == -1){\n",
        "            atomicExch(changed, 1);\n",
        "        }\n",
        "    }\n",
        "}\n",
        "\n",
        "void bfs_gpu(int source, int n, int m, const int* h_edges, const int* h_dest, int* h_labels){\n",
        "    int *d_edges, *d_dest, *d_labels, *d_changed;\n",
        "    CE(cudaMalloc(&d_edges, (n + 1) * sizeof(int)));\n",
        "    CE(cudaMalloc(&d_dest,  m * sizeof(int)));\n",
        "    CE(cudaMalloc(&d_labels, n * sizeof(int)));\n",
        "    CE(cudaMalloc(&d_changed, sizeof(int)));\n",
        "\n",
        "    CE(cudaMemcpy(d_edges, h_edges, (n + 1) * sizeof(int), cudaMemcpyHostToDevice));\n",
        "    CE(cudaMemcpy(d_dest,  h_dest,  m * sizeof(int),       cudaMemcpyHostToDevice));\n",
        "    CE(cudaMemset(d_labels, 0xFF, n * sizeof(int)));\n",
        "\n",
        "    int zero = 0;\n",
        "    CE(cudaMemcpy(d_labels + source, &zero, sizeof(int), cudaMemcpyHostToDevice));\n",
        "\n",
        "    int level = 0, h_changed;\n",
        "    int blocks = (n + TPB - 1) / TPB;\n",
        "    do{\n",
        "        h_changed = 0;\n",
        "        CE(cudaMemcpy(d_changed, &h_changed, sizeof(int), cudaMemcpyHostToDevice));\n",
        "\n",
        "        bfs_kernel<<<blocks, TPB>>>(level, n, d_edges, d_dest, d_labels, d_changed);\n",
        "        CE(cudaGetLastError());\n",
        "        CE(cudaDeviceSynchronize());\n",
        "\n",
        "        CE(cudaMemcpy(&h_changed, d_changed, sizeof(int), cudaMemcpyDeviceToHost));\n",
        "        level++;\n",
        "    } while (h_changed && level < n);\n",
        "\n",
        "    CE(cudaMemcpy(h_labels, d_labels, n * sizeof(int), cudaMemcpyDeviceToHost));\n",
        "    cudaFree(d_edges); cudaFree(d_dest); cudaFree(d_labels); cudaFree(d_changed);\n",
        "}\n",
        "\n",
        "int main(){\n",
        "    int n = 6;\n",
        "    // CSR representation\n",
        "    std::vector<int> edges = {0,2,4,6,7,9,10};\n",
        "    std::vector<int> dest  = {1,2, 0,3, 1,4, 4, 2,5, 3};\n",
        "    std::vector<int> labels(n, -1);\n",
        "\n",
        "    bfs_gpu(0, n, (int)dest.size(), edges.data(), dest.data(), labels.data());\n",
        "\n",
        "    for(int i=0;i<n;i++) std::cout << labels[i] << (i+1==n?'\\n':' ');\n",
        "    return 0;\n",
        "}\n"
      ],
      "metadata": {
        "colab": {
          "base_uri": "https://localhost:8080/"
        },
        "id": "i14PwQUQkbtZ",
        "outputId": "da212a7b-206e-4dd7-a35f-6b92a295b0d3"
      },
      "execution_count": 14,
      "outputs": [
        {
          "output_type": "stream",
          "name": "stdout",
          "text": [
            "Overwriting bfs.cu\n"
          ]
        }
      ]
    },
    {
      "cell_type": "code",
      "source": [
        "!nvcc -O3 bfs.cu -o bfs\n",
        "!./bfs\n"
      ],
      "metadata": {
        "id": "03Vj_0JzkefQ"
      },
      "execution_count": null,
      "outputs": []
    }
  ]
}