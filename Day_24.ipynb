{
  "nbformat": 4,
  "nbformat_minor": 0,
  "metadata": {
    "colab": {
      "private_outputs": true,
      "provenance": [],
      "gpuType": "V5E1"
    },
    "kernelspec": {
      "name": "python3",
      "display_name": "Python 3"
    },
    "language_info": {
      "name": "python"
    },
    "accelerator": "TPU"
  },
  "cells": [
    {
      "cell_type": "code",
      "execution_count": null,
      "metadata": {
        "id": "uAH7aTuCb1lv"
      },
      "outputs": [],
      "source": [
        "!apt-get install -y nvidia-cuda-toolkit"
      ]
    },
    {
      "cell_type": "code",
      "source": [
        "%%writefile vector_add.cu\n",
        "#include <stdio.h>\n",
        "\n",
        "__device__ long long atomicAddLL(long long *addr, long long val) {\n",
        "    unsigned long long *uaddr = (unsigned long long *)addr;\n",
        "    unsigned long long old = *uaddr, assumed;\n",
        "    do {\n",
        "        assumed = old;\n",
        "        old = atomicCAS(uaddr, assumed, assumed + val);\n",
        "    } while (assumed != old);\n",
        "    return (long long)old;\n",
        "}\n",
        "\n",
        "__global__ void atomicAddKernel(long long *data) {\n",
        "    int tid = threadIdx.x + blockIdx.x * blockDim.x;\n",
        "    atomicAddLL(data, tid);\n",
        "}\n",
        "\n",
        "int main() {\n",
        "    long long *d_data;\n",
        "    long long h_data = 0;\n",
        "\n",
        "    cudaMalloc(&d_data, sizeof(long long));\n",
        "    cudaMemcpy(d_data, &h_data, sizeof(long long), cudaMemcpyHostToDevice);\n",
        "\n",
        "    int threadsPerBlock = 256;\n",
        "    int blocksPerGrid = 4;\n",
        "\n",
        "    // Correct kernel launch\n",
        "    atomicAddKernel<<<blocksPerGrid, threadsPerBlock>>>(d_data);\n",
        "    cudaDeviceSynchronize();\n",
        "\n",
        "    cudaMemcpy(&h_data, d_data, sizeof(long long), cudaMemcpyDeviceToHost);\n",
        "    printf(\"Final value: %lld\\n\", h_data); // Expected: Sum of thread indices\n",
        "\n",
        "    cudaFree(d_data);\n",
        "    return 0;\n",
        "}\n"
      ],
      "metadata": {
        "id": "Of6Qg11rcOZL"
      },
      "execution_count": null,
      "outputs": []
    },
    {
      "cell_type": "code",
      "source": [
        "!nvcc vector_add.cu -o vector_add -gencode arch=compute_75,code=sm_75"
      ],
      "metadata": {
        "id": "XESyatgUcwoS"
      },
      "execution_count": null,
      "outputs": []
    },
    {
      "cell_type": "code",
      "source": [
        "!./vector_add"
      ],
      "metadata": {
        "id": "7I9VNAtdczbL"
      },
      "execution_count": null,
      "outputs": []
    },
    {
      "cell_type": "code",
      "source": [],
      "metadata": {
        "id": "_oqvSWtcc0yA"
      },
      "execution_count": null,
      "outputs": []
    }
  ]
}